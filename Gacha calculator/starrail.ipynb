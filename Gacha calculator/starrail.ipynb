{
 "cells": [
  {
   "cell_type": "code",
   "execution_count": 51,
   "metadata": {},
   "outputs": [
    {
     "name": "stdout",
     "output_type": "stream",
     "text": [
      "realtime jewel : -20400개\n",
      "완매 : -79차\n",
      "realtime jewel : 33041개\n",
      "need jewel : 58641개\n",
      "need ticket : 366개\n"
     ]
    }
   ],
   "source": [
    "ticket = 160\n",
    "ten_times = ticket * 10\n",
    "roof = 160\n",
    "half_roof = roof / 2\n",
    "montly_cumshot = 2640\n",
    "need_jewel = (-(101 * ticket) - ten_times -montly_cumshot)  # add 10 ticket when virsion start, and monthly cumshot 2640\n",
    "#print(\"realtime jewel :\", str(need_jewel)  + \"개\")\n",
    "ruan_mei = half_roof - (ten_times * 6) + (half_roof -ten_times) - (ten_times+1)\n",
    "\n",
    "ruan_mei = (ruan_mei / ticket)\n",
    "need_jewel = -((ruan_mei * ticket) + need_jewel)\n",
    "ruan_mei = str(int(round(ruan_mei, 3)))\n",
    "\n",
    "#print(\"완매 :\", ruan_mei + \"차\")\n",
    "\n",
    "print(\"realtime jewel :\", str(int(round(need_jewel, 3))) + \"개\")\n",
    "\n",
    "dog_jotti = roof * 160\n",
    "\n",
    "need_jewel += dog_jotti\n",
    "need_jewel = int(round(need_jewel, 3))\n",
    "\n",
    "print(\"need jewel : \" + str(need_jewel) + \"개\") \n",
    "\n",
    "print(\"need ticket : \" + str(int(round((need_jewel / 160), 3))) + \"개\")\n",
    "\n"
   ]
  }
 ],
 "metadata": {
  "kernelspec": {
   "display_name": "Python 3",
   "language": "python",
   "name": "python3"
  },
  "language_info": {
   "codemirror_mode": {
    "name": "ipython",
    "version": 3
   },
   "file_extension": ".py",
   "mimetype": "text/x-python",
   "name": "python",
   "nbconvert_exporter": "python",
   "pygments_lexer": "ipython3",
   "version": "3.12.2"
  }
 },
 "nbformat": 4,
 "nbformat_minor": 2
}
